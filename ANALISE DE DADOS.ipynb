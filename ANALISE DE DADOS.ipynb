{
 "cells": [
  {
   "cell_type": "code",
   "execution_count": 71,
   "metadata": {},
   "outputs": [
    {
     "name": "stdout",
     "output_type": "stream",
     "text": [
      "Esperamos trabalhar no diretório\n",
      "C:\\Users\\guido\\OneDrive\\Área de Trabalho\\INSPER\\INSPER JR\\CASE 1\n"
     ]
    }
   ],
   "source": [
    "%matplotlib inline\n",
    "# A linha acima é necessária para visualizar os gráficos no jupyter notebook\n",
    "\n",
    "import os\n",
    "import pandas as pd\n",
    "# Módulo com funções matemáticas para arrays multidimensionais (matrizes)\n",
    "import numpy as np\n",
    "# Módulo com funções de geração de gráficos\n",
    "import matplotlib.pyplot as plt\n",
    "import seaborn as sns\n",
    "print('Esperamos trabalhar no diretório')\n",
    "print(os.getcwd())\n"
   ]
  },
  {
   "cell_type": "code",
   "execution_count": 72,
   "metadata": {},
   "outputs": [],
   "source": [
    "case = pd.read_excel('Case.xlsx',sheet_name='Base de Vendas')\n",
    "case.head(50)\n",
    "list(case)\n",
    "df = pd.read_excel(io='Case.xlsx', sheet_name='Base de Vendas')"
   ]
  },
  {
   "cell_type": "code",
   "execution_count": 62,
   "metadata": {},
   "outputs": [
    {
     "name": "stdout",
     "output_type": "stream",
     "text": [
      "0       Masculino\n",
      "1       Feminino \n",
      "2       Feminino \n",
      "3       Feminino \n",
      "4       Feminino \n",
      "          ...    \n",
      "5241    Masculino\n",
      "5242    Feminino \n",
      "5243    Feminino \n",
      "5244    Feminino \n",
      "5245    Feminino \n",
      "Name: genero, Length: 5246, dtype: object\n",
      "5246\n"
     ]
    }
   ],
   "source": [
    "case['genero']\n",
    "print(case['genero'])\n",
    "lista= []\n",
    "for e in case['genero']:\n",
    "    if e == 'Masculino':\n",
    "        lista.append(1)\n",
    "    elif e == 'Feminino ':\n",
    "        lista.append(2)\n",
    "    else:\n",
    "        lista.append(3)\n",
    "\n",
    "print(len(lista))"
   ]
  },
  {
   "cell_type": "code",
   "execution_count": 63,
   "metadata": {},
   "outputs": [
    {
     "data": {
      "image/png": "[encoded data removed]",
      "text/plain": [
       "<Figure size 432x288 with 1 Axes>"
      ]
     },
     "metadata": {
      "needs_background": "light"
     },
     "output_type": "display_data"
    }
   ],
   "source": [
    "plt.scatter(lista, case.idade)\n",
    "# Mostrando o gráfico\n",
    "plt.show()"
   ]
  },
  {
   "cell_type": "code",
   "execution_count": 64,
   "metadata": {},
   "outputs": [
    {
     "data": {
      "image/png": "[encoded data removed]",
      "text/plain": [
       "<Figure size 432x288 with 1 Axes>"
      ]
     },
     "metadata": {
      "needs_background": "light"
     },
     "output_type": "display_data"
    }
   ],
   "source": [
    "plt.hist(case.idade, bins = 100, density = False, edgecolor =\"white\");"
   ]
  },
  {
   "cell_type": "code",
   "execution_count": 65,
   "metadata": {},
   "outputs": [
    {
     "data": {
      "text/plain": [
       "(array([2525., 2664.,   57.]),\n",
       " array([1.        , 1.66666667, 2.33333333, 3.        ]),\n",
       " <BarContainer object of 3 artists>)"
      ]
     },
     "execution_count": 65,
     "metadata": {},
     "output_type": "execute_result"
    },
    {
     "data": {
      "image/png": "[encoded data removed]",
      "text/plain": [
       "<Figure size 432x288 with 1 Axes>"
      ]
     },
     "metadata": {
      "needs_background": "light"
     },
     "output_type": "display_data"
    }
   ],
   "source": [
    "plt.hist(lista, bins = 3, density = False, edgecolor =\"white\")\n",
    "plt.show()"
   ]
  },
  {
   "cell_type": "code",
   "execution_count": 66,
   "metadata": {},
   "outputs": [
    {
     "data": {
      "image/png": "[encoded data removed]",
      "text/plain": [
       "<Figure size 1080x360 with 1 Axes>"
      ]
     },
     "metadata": {
      "needs_background": "light"
     },
     "output_type": "display_data"
    }
   ],
   "source": [
    "plt.figure(figsize=(15, 5))\n",
    "plt.hist(case.CM, bins = 6, density = False, edgecolor =\"white\");\n",
    "plt.show()\n"
   ]
  },
  {
   "cell_type": "code",
   "execution_count": null,
   "metadata": {},
   "outputs": [],
   "source": [
    "lista1= []\n",
    "cont= 0\n",
    "for e in case['CM']:\n",
    "    if e == 'Redes Sociais':\n",
    "        lista1.append(1)\n",
    "        cont+= 1\n",
    "    elif e == 'Recomendação de família/ Amigos ':\n",
    "        lista1.append(2)\n",
    "        cont+= 1\n",
    "    elif e == 'Recomendação médica':\n",
    "        lista1.append(2)\n",
    "        cont+= 1\n",
    "    elif e == 'Divulgação Física':\n",
    "        lista1.append(2)\n",
    "        cont+= 1\n",
    "    elif e == 'Site':\n",
    "        lista1.append(2)\n",
    "        cont+= 1\n",
    "    elif e == 'Outros':\n",
    "        lista1.append(2)\n",
    "        cont+= 1\n"
   ]
  },
  {
   "cell_type": "code",
   "execution_count": 76,
   "metadata": {},
   "outputs": [
    {
     "name": "stdout",
     "output_type": "stream",
     "text": [
      "<bound method Series.count of 0                             Whey Protein - Baunilha - 1\n",
      "1                              Vitamina C - gummies - 180\n",
      "2       Whey Protein - Banana - 0,5 ; Whey Protein - C...\n",
      "3                              Vitamina C - gummies - 250\n",
      "4       Spirulina - 120 ; Colágeno - 300 ; Vitamina C ...\n",
      "                              ...                        \n",
      "5241    Spirulina - 60 ; Colágeno - 150 ; Vitamina C -...\n",
      "5242                    Vitamina D 10000iu- cápsulas - 60\n",
      "5243    Spirulina - 60 ; Colágeno - 150 ; Vitamina C -...\n",
      "5244                                      Spirulina - 240\n",
      "5245    Spirulina - 120 ; Colágeno - 300 ; Vitamina C ...\n",
      "Name: Produtos , Length: 5246, dtype: object>\n"
     ]
    }
   ],
   "source": [
    "x= case['Produtos '].count\n",
    "print(x)"
   ]
  },
  {
   "cell_type": "code",
   "execution_count": null,
   "metadata": {},
   "outputs": [],
   "source": []
  },
  {
   "cell_type": "code",
   "execution_count": null,
   "metadata": {},
   "outputs": [],
   "source": []
  }
 ],
 "metadata": {
  "kernelspec": {
   "display_name": "Python 3",
   "language": "python",
   "name": "python3"
  },
  "language_info": {
   "codemirror_mode": {
    "name": "ipython",
    "version": 3
   },
   "file_extension": ".py",
   "mimetype": "text/x-python",
   "name": "python",
   "nbconvert_exporter": "python",
   "pygments_lexer": "ipython3",
   "version": "3.8.5"
  }
 },
 "nbformat": 4,
 "nbformat_minor": 4
}
